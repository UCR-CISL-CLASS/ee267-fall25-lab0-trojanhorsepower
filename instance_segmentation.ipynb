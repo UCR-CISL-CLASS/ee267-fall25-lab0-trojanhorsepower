{
 "cells": [
  {
   "cell_type": "code",
   "execution_count": null,
   "id": "c357b7ef",
   "metadata": {},
   "outputs": [],
   "source": [
    "import carla\n",
    "import random\n",
    "import queue"
   ]
  },
  {
   "cell_type": "code",
   "execution_count": 2,
   "id": "a4dd43c9",
   "metadata": {},
   "outputs": [
    {
     "data": {
      "text/plain": [
       "77"
      ]
     },
     "execution_count": 2,
     "metadata": {},
     "output_type": "execute_result"
    }
   ],
   "source": [
    "client = carla.Client('localhost', 2000)\n",
    "world = client.get_world()\n",
    "settings = world.get_settings()\n",
    "settings.synchronous_mode = True\n",
    "settings.fixed_delta_seconds = 0.05\n",
    "world.apply_settings(settings)"
   ]
  },
  {
   "cell_type": "markdown",
   "id": "e27d06ce",
   "metadata": {},
   "source": [
    "### Set up instance segmentation camera"
   ]
  },
  {
   "cell_type": "code",
   "execution_count": 3,
   "id": "d1fa839e",
   "metadata": {},
   "outputs": [],
   "source": [
    "spawn_points = world.get_map().get_spawn_points()\n",
    "spectator = world.get_spectator()\n",
    "\n",
    "cam_location = carla.Location(x=-46, y=152, z=12)\n",
    "cam_rotation = carla.Rotation(pitch=-21, yaw=-93.4, roll=0)\n",
    "camera_transform = carla.Transform(location=cam_location, rotation=cam_rotation)\n",
    "spectator.set_transform(camera_transform)\n",
    "\n",
    "instance_camera_bp = world.get_blueprint_library().find('sensor.camera.instance_segmentation')\n",
    "instance_camera = world.try_spawn_actor(instance_camera_bp, camera_transform)"
   ]
  },
  {
   "cell_type": "markdown",
   "id": "db91e589",
   "metadata": {},
   "source": [
    "### Populate the scene"
   ]
  },
  {
   "cell_type": "code",
   "execution_count": 4,
   "id": "397668e3",
   "metadata": {},
   "outputs": [
    {
     "data": {
      "text/plain": [
       "80"
      ]
     },
     "execution_count": 4,
     "metadata": {},
     "output_type": "execute_result"
    }
   ],
   "source": [
    "vehicle_bp_library = world.get_blueprint_library().filter('*vehicle*')\n",
    "radius = 80\n",
    "\n",
    "for sp in spawn_points:\n",
    "    vec = [sp.location.x - cam_location.x, sp.location.y - cam_location.y]\n",
    "    if vec[0]*vec[0] + vec[1]*vec[1] < radius*radius:\n",
    "        world.try_spawn_actor(random.choice(vehicle_bp_library), sp)\n",
    "world.tick()"
   ]
  },
  {
   "cell_type": "markdown",
   "id": "8dbfa547",
   "metadata": {},
   "source": [
    "### Generate the image"
   ]
  },
  {
   "cell_type": "code",
   "execution_count": 5,
   "id": "1e5800ec",
   "metadata": {},
   "outputs": [
    {
     "data": {
      "text/plain": [
       "'output/part05/instance_segmentation.png'"
      ]
     },
     "execution_count": 5,
     "metadata": {},
     "output_type": "execute_result"
    }
   ],
   "source": [
    "instance_image_queue = queue.Queue()\n",
    "instance_camera.listen(instance_image_queue.put)\n",
    "world.tick()\n",
    "instance_image = instance_image_queue.get()\n",
    "instance_image.save_to_disk('output/part05/instance_segmentation.png')"
   ]
  },
  {
   "cell_type": "code",
   "execution_count": null,
   "id": "898f3086",
   "metadata": {},
   "outputs": [],
   "source": []
  }
 ],
 "metadata": {
  "kernelspec": {
   "display_name": "trojan",
   "language": "python",
   "name": "python3"
  },
  "language_info": {
   "codemirror_mode": {
    "name": "ipython",
    "version": 3
   },
   "file_extension": ".py",
   "mimetype": "text/x-python",
   "name": "python",
   "nbconvert_exporter": "python",
   "pygments_lexer": "ipython3",
   "version": "3.9.23"
  }
 },
 "nbformat": 4,
 "nbformat_minor": 5
}
