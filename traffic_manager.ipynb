{
 "cells": [
  {
   "cell_type": "code",
   "execution_count": null,
   "metadata": {},
   "outputs": [],
   "source": [
    "import carla\n",
    "import random\n"
   ]
  },
  {
   "cell_type": "code",
   "execution_count": null,
   "metadata": {},
   "outputs": [],
   "source": [
    "# Initialize traffic manager\n",
    "client = carla.Client('localhost', 2000)\n",
    "world = client.get_world()\n",
    "\n",
    "settings = world.get_settings()\n",
    "settings.synchronous_mode = True\n",
    "settings.fixed_delta_seconds = 0.05\n",
    "world.apply_settings(settings)\n",
    "\n",
    "traffic_manager = client.get_trafficmanager()\n",
    "traffic_manager.set_synchronous_mode(True)\n",
    "traffic_manager.set_random_device_seed(0)\n",
    "random.seed(0)\n"
   ]
  },
  {
   "cell_type": "code",
   "execution_count": null,
   "metadata": {},
   "outputs": [],
   "source": [
    "spawn_points = world.get_map().get_spawn_points()\n"
   ]
  },
  {
   "cell_type": "code",
   "execution_count": null,
   "metadata": {},
   "outputs": [],
   "source": [
    "# Select some models from the blueprint library\n",
    "models = ['dodge', 'audi', 'model3', 'mini', 'mustang', 'lincoln', 'prius', 'nissan', 'crown', 'impala']\n",
    "blueprints = []\n",
    "for vehicle in world.get_blueprint_library().filter('*vehicle*'):\n",
    "    if any(model in vehicle.id for model in models):\n",
    "        blueprints.append(vehicle)\n",
    "\n",
    "# Set a max number of vehicles and prepare a list for those we spawn\n",
    "max_vehicles = 50\n",
    "max_vehicles = min([max_vehicles, len(spawn_points)])\n",
    "vehicles = []\n",
    "\n",
    "# Take a random sample of the spawn points and spawn some vehicles\n",
    "for i, spawn_point in enumerate(random.sample(spawn_points, max_vehicles)):\n",
    "    temp = world.try_spawn_actor(random.choice(blueprints), spawn_point)\n",
    "    if temp is not None:\n",
    "        vehicles.append(temp)\n",
    "\n"
   ]
  },
  {
   "cell_type": "code",
   "execution_count": null,
   "metadata": {},
   "outputs": [],
   "source": [
    "for _ in range(50):\n",
    "    blueprint = random.choice(world.get_blueprint_library().filter('walker.pedestrian.*'))\n",
    "    sp = random.choice(spawn_points) if spawn_points else carla.Transform()\n",
    "    world.try_spawn_actor(blueprint, sp)\n"
   ]
  },
  {
   "cell_type": "code",
   "execution_count": null,
   "metadata": {},
   "outputs": [],
   "source": [
    "for vehicle in vehicles:\n",
    "    vehicle.set_autopilot(True)\n",
    "    traffic_manager.ignore_lights_percentage(vehicle, random.randint(0, 50))\n"
   ]
  },
  {
   "cell_type": "code",
   "execution_count": null,
   "metadata": {},
   "outputs": [],
   "source": [
    "while True:\n",
    "    world.tick()\n",
    "\n",
    "\n"
   ]
  }
 ],
 "metadata": {
  "kernelspec": {
   "display_name": "trojan",
   "language": "python",
   "name": "python3"
  },
  "language_info": {
   "codemirror_mode": {
    "name": "ipython",
    "version": 3
   },
   "file_extension": ".py",
   "mimetype": "text/x-python",
   "name": "python",
   "nbconvert_exporter": "python",
   "pygments_lexer": "ipython3",
   "version": "3.9.23"
  }
 },
 "nbformat": 4,
 "nbformat_minor": 2
}
